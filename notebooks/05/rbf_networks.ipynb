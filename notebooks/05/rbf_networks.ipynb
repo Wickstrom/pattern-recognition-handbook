{
 "cells": [
  {
   "cell_type": "markdown",
   "metadata": {
    "slideshow": {
     "slide_type": "slide"
    }
   },
   "source": [
    "# RBF Networks and Prototypical Learning"
   ]
  },
  {
   "cell_type": "markdown",
   "metadata": {
    "slideshow": {
     "slide_type": "slide"
    },
    "tags": []
   },
   "source": [
    "## Introduction\n",
    "\n",
    "- We have learned how neural networks transform data into new representation to solve non-linear problems.\n",
    "- We will not look at non-linear classification from the perspective of function approximation.\n",
    "- Key idea:\n",
    "    - Transform data in terms of a preselected class of interpolation functions.\n",
    "- We will also see how RBF networks relate to the field of prototypical learning."
   ]
  },
  {
   "cell_type": "markdown",
   "metadata": {
    "slideshow": {
     "slide_type": "slide"
    }
   },
   "source": [
    "## Function approximation\n",
    "\n",
    "- Recall the XOR example:"
   ]
  },
  {
   "cell_type": "code",
   "execution_count": 1,
   "metadata": {
    "slideshow": {
     "slide_type": "subslide"
    }
   },
   "outputs": [],
   "source": [
    "import numpy as np\n",
    "import matplotlib.pyplot as plt\n",
    "\n",
    "# XOR problem: four blobs at (0,0), (0,1), (1,0), (1,1)\n",
    "np.random.seed(42)\n",
    "n_samples = 50\n",
    "std = 0.15\n",
    "\n",
    "centers = np.array([\n",
    "    [0, 0],\n",
    "    [0, 1],\n",
    "    [1, 0],\n",
    "    [1, 1]\n",
    "])\n",
    "labels = np.array([0, 1, 1, 0])  # XOR labels\n",
    "\n",
    "X = []\n",
    "y = []\n",
    "for center, label in zip(centers, labels):\n",
    "    X.append(center + std * np.random.randn(n_samples, 2))\n",
    "    y.append(np.full(n_samples, label))\n",
    "X = np.vstack(X)\n",
    "y = np.concatenate(y)\n"
   ]
  },
  {
   "cell_type": "code",
   "execution_count": 2,
   "metadata": {
    "slideshow": {
     "slide_type": "subslide"
    }
   },
   "outputs": [
    {
     "data": {
      "image/png": "[encoded data removed]",
      "text/plain": [
       "<Figure size 800x400 with 2 Axes>"
      ]
     },
     "metadata": {},
     "output_type": "display_data"
    }
   ],
   "source": [
    "plt.figure(figsize=(8, 4))\n",
    "plt.subplot(121)\n",
    "plt.scatter(X[y == 0, 0], X[y == 0, 1], color='blue', label='Class 0')\n",
    "plt.scatter(X[y == 1, 0], X[y == 1, 1], color='red', label='Class 1')\n",
    "plt.xlabel('x1')\n",
    "plt.ylabel('x2')\n",
    "plt.subplot(122)\n",
    "plt.ylim(-0.5, 1.5)\n",
    "plt.xlim(-0.5, 1.5)\n",
    "plt.xlabel('x1')\n",
    "plt.ylabel('x2')\n",
    "plt.show()"
   ]
  },
  {
   "cell_type": "markdown",
   "metadata": {
    "slideshow": {
     "slide_type": "subslide"
    }
   },
   "source": [
    "### General idea\n",
    "\n",
    "- Let (non-linear) $f_i: \\mathbb{R}^d \\rightarrow \\mathbb{R}, i=1,\\cdots,k$\n",
    "- Look at $\\mathbf{x} \\in \\mathbb{R}^d$. (Usually $k>l$)\n",
    "- Draw example:"
   ]
  },
  {
   "cell_type": "markdown",
   "metadata": {
    "slideshow": {
     "slide_type": "subslide"
    }
   },
   "source": [
    "### Network\n",
    "\n",
    "- The function approximation setup described above can be thought of as a network:"
   ]
  },
  {
   "cell_type": "markdown",
   "metadata": {
    "slideshow": {
     "slide_type": "slide"
    }
   },
   "source": [
    "## Radial basis function (RBF) networks\n",
    "\n",
    "- General idea: $$ f(\\|\\mathbf{x} - \\mathbf{c}_i\\|)$$\n",
    "- RBF network: $$ f(\\mathbf{x})= \\exp(-\\frac{1}{2\\sigma_i^2}(\\|\\mathbf{x} - \\mathbf{c}_i\\|))$$\n",
    "- Activation at node $f_i$ given by distance to $\\mathbf{c}_i$."
   ]
  },
  {
   "cell_type": "markdown",
   "metadata": {
    "slideshow": {
     "slide_type": "subslide"
    }
   },
   "source": [
    "### Estimating the weights\n",
    "\n",
    "- Any linear method will do!\n",
    "- Let $\\mathbf{y}$ be the desired outputs. Construct matrix $\\mathbf{G}$:\n",
    "- $$ G = \\begin{bmatrix} \\phi(x_1, c_1) & \\cdots & \\phi(x_1, c_k) \\\\ \\vdots & & \\vdots \\\\ \\phi(x_N, c_1) & \\cdots & \\phi(x_N, c_k) \\end{bmatrix}_{N \\times k} $$\n",
    "- So: \n",
    "- $$ \\mathbf{g} = G \\mathbf{w} = \\begin{bmatrix} g(x_1) \\\\ \\vdots \\\\ g(x_N) \\end{bmatrix} $$"
   ]
  },
  {
   "cell_type": "markdown",
   "metadata": {
    "slideshow": {
     "slide_type": "subslide"
    }
   },
   "source": [
    "### Estimating the weights\n",
    "\n",
    "- Choose $\\mathbf{w}$ such that $J = \\|\\mathbf{y} - G\\mathbf{w}\\|^2$ is minimized.\n",
    "- $$ \\frac{\\partial J}{\\partial \\mathbf{w}} = 0 \\implies \\boxed{\\mathbf{w} = (G^\\top G)^{-1} G^\\top \\mathbf{y}} $$\n"
   ]
  },
  {
   "cell_type": "markdown",
   "metadata": {
    "slideshow": {
     "slide_type": "subslide"
    }
   },
   "source": [
    "### How to choose the centers?\n",
    "\n",
    "- **Fixed centres:** Centres selected randomly from the training set.  \n",
    "   - Simple, but not optimum!\n",
    "- **Training of the centres:**  Let $\\sigma_i^2$, $\\mathbf{c}_i$, $w_i$, $i=1,\\ldots,k$, be free parameters learned from the training set.\n",
    "\n",
    "   $$\n",
    "   \\frac{\\partial J}{\\partial \\mathbf{c}_i} = 0 \\implies \\mathbf{c}_i^{(\\text{new})} = \\mathbf{c}_i^{(\\text{old})} + \\mu \\frac{\\partial J}{\\partial \\mathbf{c}_i}\n",
    "   $$\n",
    "- Choose centres according to how the data are distributed in space. Draw ->\n",
    "   - More about this later."
   ]
  },
  {
   "cell_type": "markdown",
   "metadata": {
    "slideshow": {
     "slide_type": "slide"
    }
   },
   "source": [
    "## Prototypical learning\n",
    "\n",
    "- Consider the following example\n",
    "\n",
    "<p float=\"left\">\n",
    "    <img src=\"media/uncertaintyex.jpg\" width=\"400\" />\n",
    "</p>"
   ]
  },
  {
   "cell_type": "markdown",
   "metadata": {
    "slideshow": {
     "slide_type": "subslide"
    }
   },
   "source": [
    "### Prototypical learning\n",
    "\n",
    "- Define / learn prototypes and classifiy new samples based on similarity.\n",
    "- Prototypes can be defined in input space or in latent space!\n",
    "\n",
    "<p float=\"left\">\n",
    "    <img src=\"media/protovae.png\" width=\"700\" />\n",
    "</p>"
   ]
  },
  {
   "cell_type": "markdown",
   "metadata": {
    "slideshow": {
     "slide_type": "subslide"
    }
   },
   "source": [
    "### Prototypical learning\n",
    "\n",
    "- Using prototypes can make it easier to understand the behaviour of your model.\n",
    "- Prototypes represent \"typical\" examples in the data.\n",
    "- Example from Kingma and Welling, 2016.\n",
    "\n",
    "<p float=\"left\">\n",
    "    <img src=\"media/vae.png\" width=\"700\" />\n",
    "</p>"
   ]
  },
  {
   "cell_type": "markdown",
   "metadata": {},
   "source": [
    "### Prototypical learning\n",
    "\n",
    "- Using prototypes can make it easier to understand the behaviour of your model.\n",
    "- Prototypes represent \"typical\" examples in the data.\n",
    "\n",
    "<p float=\"left\">\n",
    "    <img src=\"media/archetype.png\" width=\"400\" />\n",
    "</p>"
   ]
  },
  {
   "cell_type": "markdown",
   "metadata": {},
   "source": [
    "### Challenges with prototypical learning\n",
    "\n",
    "- Curse of dimensionality.\n",
    "    - Need many prototypes in high dimensional space. Can be computationally expensive.\n",
    "- Optimization can be slow, and can be memory intensive."
   ]
  },
  {
   "cell_type": "markdown",
   "metadata": {
    "slideshow": {
     "slide_type": "slide"
    }
   },
   "source": [
    "## Programming exercises\n",
    "\n",
    "Below are programming exercises assocaited with this lecture. These cell blocks are starting points that loads the data and prepares the problem such that you can get going with the implementation. There are also theoretical exercsies, but due to copyright we cannot shared them here. They will be made available in a private repository connected to the course.\n"
   ]
  },
  {
   "cell_type": "markdown",
   "metadata": {
    "slideshow": {
     "slide_type": "slide"
    }
   },
   "source": [
    "## Problem 4.20 from book\n",
    "\n",
    "Use an RBF network to approximate the function plotted below. Select the centers from a regular grid between 0 and 1. Repeat the experiments with different numbers of Gaussian functions and bandwidths for the Gaussian function. Estimate the unkown weights using the least squares method."
   ]
  },
  {
   "cell_type": "code",
   "execution_count": 1,
   "metadata": {
    "slideshow": {
     "slide_type": "subslide"
    }
   },
   "outputs": [
    {
     "data": {
      "image/png": "[encoded data removed]",
      "text/plain": [
       "<Figure size 640x480 with 1 Axes>"
      ]
     },
     "metadata": {},
     "output_type": "display_data"
    }
   ],
   "source": [
    "\n",
    "import numpy as np\n",
    "import matplotlib.pyplot as plt\n",
    "\n",
    "N_tr = 200\n",
    "c = np.linspace(0, 1, 10).reshape(10, 1)\n",
    "\n",
    "def cos_func(x):\n",
    "    return 0.3+0.2*np.cos(2*np.pi*x)\n",
    "\n",
    "\n",
    "x_tr = np.sort(np.random.uniform(size=N_tr))\n",
    "y_tr = cos_func(x_tr)\n",
    "\n",
    "plt.figure(1)\n",
    "plt.scatter(x_tr, y_tr)\n",
    "plt.scatter(c, np.zeros(10), color='red')\n",
    "plt.show()"
   ]
  }
 ],
 "metadata": {
  "celltoolbar": "Slideshow",
  "kernelspec": {
   "display_name": "pr-course",
   "language": "python",
   "name": "python3"
  },
  "language_info": {
   "codemirror_mode": {
    "name": "ipython",
    "version": 3
   },
   "file_extension": ".py",
   "mimetype": "text/x-python",
   "name": "python",
   "nbconvert_exporter": "python",
   "pygments_lexer": "ipython3",
   "version": "3.10.18"
  },
  "toc": {
   "base_numbering": 1,
   "nav_menu": {},
   "number_sections": true,
   "sideBar": true,
   "skip_h1_title": false,
   "title_cell": "Table of Contents",
   "title_sidebar": "Contents",
   "toc_cell": false,
   "toc_position": {
    "height": "calc(100% - 180px)",
    "left": "10px",
    "top": "150px",
    "width": "403px"
   },
   "toc_section_display": true,
   "toc_window_display": false
  },
  "varInspector": {
   "cols": {
    "lenName": 16,
    "lenType": 16,
    "lenVar": 40
   },
   "kernels_config": {
    "python": {
     "delete_cmd_postfix": "",
     "delete_cmd_prefix": "del ",
     "library": "var_list.py",
     "varRefreshCmd": "print(var_dic_list())"
    },
    "r": {
     "delete_cmd_postfix": ") ",
     "delete_cmd_prefix": "rm(",
     "library": "var_list.r",
     "varRefreshCmd": "cat(var_dic_list()) "
    }
   },
   "types_to_exclude": [
    "module",
    "function",
    "builtin_function_or_method",
    "instance",
    "_Feature"
   ],
   "window_display": false
  }
 },
 "nbformat": 4,
 "nbformat_minor": 4
}
