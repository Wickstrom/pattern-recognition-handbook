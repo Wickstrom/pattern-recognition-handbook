{
 "cells": [
  {
   "cell_type": "markdown",
   "id": "45a88fdd",
   "metadata": {
    "slideshow": {
     "slide_type": "slide"
    }
   },
   "source": [
    "# Data transformation and dimensionality reduction (DTDR) I"
   ]
  },
  {
   "cell_type": "markdown",
   "id": "1cf1062d",
   "metadata": {
    "slideshow": {
     "slide_type": "slide"
    }
   },
   "source": [
    "## Introduction\n",
    "\n",
    "- So far, the course has been problem oriented (mainly classification).\n",
    "- However, an essential part of pattern recognition is data analysis."
   ]
  },
  {
   "cell_type": "markdown",
   "id": "357c54d8",
   "metadata": {
    "slideshow": {
     "slide_type": "slide"
    }
   },
   "source": [
    "## Analyising data\n",
    "\n",
    "- How do\n",
    "- adf"
   ]
  },
  {
   "cell_type": "markdown",
   "id": "b01b9d46",
   "metadata": {
    "slideshow": {
     "slide_type": "subslide"
    }
   },
   "source": [
    "### Problems\n",
    "\n",
    "- The data dimensionality may be very large.\n",
    "    - Computationally demanding.\n",
    "    - Curse of dimensionality\n",
    "- Some parts of the data may not be discriminiative / be redundant."
   ]
  },
  {
   "cell_type": "markdown",
   "id": "2e46a61f",
   "metadata": {
    "slideshow": {
     "slide_type": "subslide"
    }
   },
   "source": [
    "### Remedies\n",
    "\n",
    "- May pick only parts of the data to use.\n",
    "- May transform the data!"
   ]
  },
  {
   "cell_type": "markdown",
   "id": "935d246d",
   "metadata": {
    "slideshow": {
     "slide_type": "subslide"
    }
   },
   "source": [
    "### Approaches to DTDR\n",
    "\n",
    "- To better discriminate between classes (supervised).\n",
    "- To remove redundancy (unsupervised)."
   ]
  },
  {
   "cell_type": "markdown",
   "id": "2b159af5",
   "metadata": {
    "slideshow": {
     "slide_type": "slide"
    }
   },
   "source": [
    "## Fisher discriminant analysis (FDA)\n",
    "\n",
    "- Transform (project) to 1D:\n",
    "- Start with the two class case and $P(w_1)=P(w_2)$"
   ]
  },
  {
   "cell_type": "markdown",
   "id": "5d8fb096",
   "metadata": {
    "slideshow": {
     "slide_type": "subslide"
    }
   },
   "source": [
    "### Scatter matrices\n",
    "\n",
    "- **Within class:** $$ S_w = \\sum_{i=1}^M P(w_i) \\boldsymbol{\\Sigma_i} $$\n",
    "\n",
    "- where $$ \\boldsymbol{\\Sigma_i} = \\mathbb{E}[(\\mathbf{x} - \\boldsymbol{\\mu_i})(\\mathbf{x} - \\mu_i)^T]$$\n",
    "-Example:\n",
    "\n",
    "\n",
    "---\n",
    "\n",
    "- **Between class:** $$ S_B = \\sum_{i=1}^M P(w_i) (\\mu_i - \\mu_0)(\\mu_i-\\mu_0)^T $$\n",
    "- where $$$$"
   ]
  }
 ],
 "metadata": {
  "language_info": {
   "name": "python"
  }
 },
 "nbformat": 4,
 "nbformat_minor": 5
}
