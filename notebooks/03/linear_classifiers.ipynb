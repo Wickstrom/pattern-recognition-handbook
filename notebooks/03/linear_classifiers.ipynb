{
 "cells": [
  {
   "cell_type": "markdown",
   "metadata": {
    "slideshow": {
     "slide_type": "slide"
    }
   },
   "source": [
    "# Linear classifiers"
   ]
  },
  {
   "cell_type": "code",
   "execution_count": null,
   "metadata": {
    "tags": [
     "hide-input"
    ]
   },
   "outputs": [],
   "source": [
    "# Imports\n",
    "\n",
    "import numpy as np\n",
    "import matplotlib.pyplot as plt\n"
   ]
  },
  {
   "cell_type": "markdown",
   "metadata": {
    "slideshow": {
     "slide_type": "slide"
    },
    "tags": []
   },
   "source": [
    "## Introduction\n",
    "\n",
    "- Up until now, our classifiers have been designed based on probability density functions.\n",
    "- In some cases, these classifiers were equivalent to linear discriminant functions.\n",
    "- Now, we will design linear discriminant functions, *regardless of the underlying distribution*.\n",
    "- Linear classifiers are incredibl useful:\n",
    "    - \"First thing you try\".\n",
    "    - Often an underlying part of more complex algorithms."
   ]
  },
  {
   "cell_type": "code",
   "execution_count": 5,
   "metadata": {
    "tags": [
     "hide-input"
    ]
   },
   "outputs": [
    {
     "data": {
      "image/png": "[encoded data removed]",
      "text/plain": [
       "<Figure size 800x800 with 1 Axes>"
      ]
     },
     "metadata": {},
     "output_type": "display_data"
    }
   ],
   "source": [
    "import numpy as np\n",
    "import matplotlib.pyplot as plt\n",
    "\n",
    "np.random.seed(42)  # For reproducibility\n",
    "\n",
    "N = 7\n",
    "\n",
    "mu1 = np.array([1, 1])\n",
    "mu2 = np.array([2.5, 2.5])\n",
    "sigma = np.array([[0.1, 0.0], [0.0, 0.1]])\n",
    "\n",
    "x1 = np.random.multivariate_normal(mu1, sigma, N)\n",
    "x2 = np.random.multivariate_normal(mu2, sigma, N)\n",
    "x = np.concatenate((x1, x2))\n",
    "y = np.concatenate((np.ones(N), np.zeros(N)))\n",
    "\n",
    "plt.figure(1, figsize=(8, 8))\n",
    "plt.scatter(x1[:, 0], x1[:, 1], s=120, facecolors='none',\n",
    "            edgecolors='black', linewidth=3.0, label='Class 1')\n",
    "plt.scatter(x2[:, 0], x2[:, 1], s=120, facecolors='none',\n",
    "            edgecolors='blue', linewidth=3.0, label='Class 2')\n",
    "plt.xlim(0, np.max(x2[:, 0])+1.5)\n",
    "plt.xlim(0, np.max(x2[:, 1])+1.5)\n",
    "plt.legend()\n",
    "plt.show()"
   ]
  },
  {
   "cell_type": "markdown",
   "metadata": {
    "slideshow": {
     "slide_type": "subslide"
    }
   },
   "source": [
    "### Linear classifiers: asumptions and notation\n",
    "\n",
    "- alsdfa"
   ]
  },
  {
   "cell_type": "markdown",
   "metadata": {
    "slideshow": {
     "slide_type": "slide"
    }
   },
   "source": [
    "## Mean squared error (MSE) classifier\n",
    "\n",
    "- Idea:\n",
    "    - $y()$\n",
    "    "
   ]
  },
  {
   "cell_type": "markdown",
   "metadata": {
    "slideshow": {
     "slide_type": "slide"
    }
   },
   "source": [
    "## Sum of error squares (SE2) classifier\n",
    "\n",
    "- Drawback of MSE classifier:\n",
    "    - Assumes knowledge about the underlying distribution -> why not use Bayes' classifier?\n",
    "    "
   ]
  },
  {
   "cell_type": "markdown",
   "metadata": {
    "slideshow": {
     "slide_type": "slide"
    }
   },
   "source": [
    "## Perceptron\n",
    "\n",
    "- Drawback of MSE classifier:\n",
    "    - Assumes knowledge about the underlying distribution -> why not use Bayes' classifier?\n",
    "    "
   ]
  }
 ],
 "metadata": {
  "celltoolbar": "Slideshow",
  "kernelspec": {
   "display_name": "pr-course",
   "language": "python",
   "name": "python3"
  },
  "language_info": {
   "codemirror_mode": {
    "name": "ipython",
    "version": 3
   },
   "file_extension": ".py",
   "mimetype": "text/x-python",
   "name": "python",
   "nbconvert_exporter": "python",
   "pygments_lexer": "ipython3",
   "version": "3.10.18"
  },
  "toc": {
   "base_numbering": 1,
   "nav_menu": {},
   "number_sections": true,
   "sideBar": true,
   "skip_h1_title": false,
   "title_cell": "Table of Contents",
   "title_sidebar": "Contents",
   "toc_cell": false,
   "toc_position": {
    "height": "calc(100% - 180px)",
    "left": "10px",
    "top": "150px",
    "width": "403px"
   },
   "toc_section_display": true,
   "toc_window_display": false
  },
  "varInspector": {
   "cols": {
    "lenName": 16,
    "lenType": 16,
    "lenVar": 40
   },
   "kernels_config": {
    "python": {
     "delete_cmd_postfix": "",
     "delete_cmd_prefix": "del ",
     "library": "var_list.py",
     "varRefreshCmd": "print(var_dic_list())"
    },
    "r": {
     "delete_cmd_postfix": ") ",
     "delete_cmd_prefix": "rm(",
     "library": "var_list.r",
     "varRefreshCmd": "cat(var_dic_list()) "
    }
   },
   "types_to_exclude": [
    "module",
    "function",
    "builtin_function_or_method",
    "instance",
    "_Feature"
   ],
   "window_display": false
  }
 },
 "nbformat": 4,
 "nbformat_minor": 4
}
