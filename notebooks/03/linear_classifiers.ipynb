{
 "cells": [
  {
   "cell_type": "markdown",
   "metadata": {
    "slideshow": {
     "slide_type": "slide"
    }
   },
   "source": [
    "# Linear classifiers"
   ]
  },
  {
   "cell_type": "markdown",
   "metadata": {
    "slideshow": {
     "slide_type": "slide"
    },
    "tags": []
   },
   "source": [
    "## Introduction\n",
    "\n",
    "- Up until now, our classifiers have been designed based on probability density functions.\n",
    "- In some cases, these classifiers were equivalent to linear discriminant functions.\n",
    "- Now, we will design linear discriminant functions, *regardless of the underlying distribution*.\n",
    "- Linear classifiers are incredibl useful:\n",
    "    - \"First thing you try\".\n",
    "    - Often an underlying part of more complex algorithms."
   ]
  },
  {
   "cell_type": "code",
   "execution_count": 1,
   "metadata": {
    "slideshow": {
     "slide_type": "subslide"
    }
   },
   "outputs": [],
   "source": [
    "import numpy as np\n",
    "import matplotlib.pyplot as plt\n",
    "\n",
    "np.random.seed(42)  # For reproducibility\n",
    "\n",
    "N = 7\n",
    "\n",
    "mu1 = np.array([1, 1])\n",
    "mu2 = np.array([2.5, 2.5])\n",
    "sigma = np.array([[0.1, 0.0], [0.0, 0.1]])\n",
    "\n",
    "x1 = np.random.multivariate_normal(mu1, sigma, N)\n",
    "x2 = np.random.multivariate_normal(mu2, sigma, N)\n",
    "x = np.concatenate((x1, x2))\n",
    "y = np.concatenate((np.ones(N), np.zeros(N)))"
   ]
  },
  {
   "cell_type": "code",
   "execution_count": 3,
   "metadata": {
    "slideshow": {
     "slide_type": "subslide"
    },
    "tags": [
     "hide-input"
    ]
   },
   "outputs": [
    {
     "data": {
      "image/png": "[encoded data removed]",
      "text/plain": [
       "<Figure size 500x200 with 1 Axes>"
      ]
     },
     "metadata": {},
     "output_type": "display_data"
    }
   ],
   "source": [
    "\n",
    "plt.figure(1, figsize=(5, 2))\n",
    "plt.scatter(x1[:, 0], x1[:, 1], s=120, facecolors='none',\n",
    "            edgecolors='black', linewidth=3.0, label='Class 1')\n",
    "plt.scatter(x2[:, 0], x2[:, 1], s=120, facecolors='none',\n",
    "            edgecolors='blue', linewidth=3.0, label='Class 2')\n",
    "plt.xlim(0, np.max(x2[:, 0])+1.5)\n",
    "plt.ylim(0, np.max(x2[:, 1])+1.5)\n",
    "plt.xlabel('x1')\n",
    "plt.ylabel('x2')\n",
    "plt.legend()\n",
    "plt.xticks([0, 1, 2, 3, 4])\n",
    "plt.yticks([0, 1, 2, 3, 4])\n",
    "plt.show()\n"
   ]
  },
  {
   "cell_type": "markdown",
   "metadata": {
    "slideshow": {
     "slide_type": "subslide"
    }
   },
   "source": [
    "### A high level view of linear classifiers\n",
    "\n",
    "- Assume we have a training set: $\\{\\mathbf{x}_i, y_i\\}$, where $\\mathbf{x} \\in \\mathbb{R}^d$\n",
    "- In terms of discriminant functions:\n",
    "    - $\\mathbf{x}$ belongs to class 1 if $g(\\mathbf{x})>0$.\n",
    "    - How to design $g$?.\n",
    "- Can use:\n",
    "    - $g(\\mathbf{x}) = \\mathbf{w}^T\\mathbf{x}$.\n",
    "    - $\\mathbf{w} = \\begin{bmatrix} w_1 \\\\ w_2 \\\\ \\vdots \\\\ w_d \\\\ w_0 \\end{bmatrix}$ and $\\mathbf{x} = \\begin{bmatrix} x_1 \\\\ x_2 \\\\ \\vdots \\\\ x_d \\\\ 1 \\end{bmatrix}$ "
   ]
  },
  {
   "cell_type": "markdown",
   "metadata": {
    "slideshow": {
     "slide_type": "slide"
    }
   },
   "source": [
    "## Mean squared error (MSE) classifier\n",
    "\n",
    "- Idea:\n",
    "    - $g(\\mathbf{x}_i)=\\mathbf{w}^T\\mathbf{x}_i \\approx y_i$\n",
    "- How can we find weights that gives the desired output?\n",
    "- We do this by designing a *cost function* that would encourage this behavior:\n",
    "    - $J(\\mathbf{w})=\\frac{1}{2}\\mathbb{E}_{\\mathbf{x}} \\left[ (y-\\mathbf{w}^T\\mathbf{x}) \\right]$\n",
    "- $\\widehat{\\mathbf{w}} = \\underset{\\mathbf{w}}{\\operatorname{argmin}}\\ J(\\mathbf{w})$\n",
    "- Want:\n",
    "    - $\\frac{\\partial}{\\partial \\mathbf{w}} J(\\mathbf{w}) = 0$"
   ]
  },
  {
   "cell_type": "markdown",
   "metadata": {
    "slideshow": {
     "slide_type": "subslide"
    }
   },
   "source": [
    "### Calculating weights based on MSE loss\n",
    "\n",
    "Now, we derive an expression for calculating the weights of a linear classifier with a MSE loss.\n",
    "\n",
    "- Recall:\n",
    "    - $\\mathbb{E}[g(\\mathbf{x})] = \\int g(\\mathbf{x})p(\\mathbf{x})d\\mathbf{x}$\n",
    "- Hence:\n",
    "    - $J(\\mathbf{w}) = \\frac{1}{2} \\int \\left[ (y-\\mathbf{w}^T\\mathbf{x}) \\right]^2 p(\\mathbf{x})d\\mathbf{x}$\n",
    "- Using the law of total probablity we get:\n",
    "    - $J(\\mathbf{w}) = \\frac{1}{2}p(w_1) \\int \\left[ (***-\\mathbf{w}^T\\mathbf{x}) \\right]^2 p(\\mathbf{x}|w_1)d\\mathbf{x} + \\frac{1}{2}p(w_2) \\int \\left[ (***-\\mathbf{w}^T\\mathbf{x}) \\right]^2 p(\\mathbf{x}|w_2)d\\mathbf{x}$\n",
    "- Remember the chain rule ->\n",
    "- Followed by a vector derivative:\n",
    "    - $\\frac{\\partial}{\\partial \\mathbf{w}} (1-\\mathbf{w}^T\\mathbf{x}) = \\begin{bmatrix} \\hspace{3.0cm} \\\\  \\\\ \\vdots \\\\  \\\\ \\end{bmatrix} = -\\mathbf{x}$\n",
    "- Thus:\n",
    "    - $\\frac{\\partial}{\\partial \\mathbf{w}} J(\\mathbf{w}) = -\\mathbb{E}[\\mathbf{x}(y-\\mathbf{w}^T\\mathbf{x})]=\\mathbf{0}$\n",
    "- Finally:\n",
    "    - $\\widehat{\\mathbf{w}} = \\mathbf{R}^{-1}_{\\mathbf{x}}\\mathbb{E}[\\mathbf{x}y]$"
   ]
  },
  {
   "cell_type": "markdown",
   "metadata": {},
   "source": [
    "### Understanding the MSE weights\n",
    "\n",
    "- Note\n",
    "    - Second order moment (variance, assuming mean zero).\n",
    "    - Assumes knwoledge about probability density function!\n",
    "- Example under assumption normally distributed data:\n",
    "    - "
   ]
  },
  {
   "cell_type": "markdown",
   "metadata": {
    "slideshow": {
     "slide_type": "slide"
    }
   },
   "source": [
    "## Least sum of error squares (LS) classifier\n",
    "\n",
    "- Drawback of MSE classifier:\n",
    "    - Assumes knowledge about the underlying distribution -> why not use Bayes' classifier?\n",
    "- How can we design a linear classifier without relying about knowledge of the distribution of the data?\n"
   ]
  },
  {
   "cell_type": "markdown",
   "metadata": {
    "slideshow": {
     "slide_type": "subslide"
    }
   },
   "source": [
    "### Least sum of error squres cost function\n",
    "\n",
    "- Consider the following loss function:\n",
    "- $J(\\mathbf{w}) = \\sum_{i=1}^{N} \\left(y-\\mathbf{w}^T\\mathbf{x}_i\\right)^2$"
   ]
  },
  {
   "cell_type": "markdown",
   "metadata": {
    "slideshow": {
     "slide_type": "subslide"
    }
   },
   "source": [
    "### Differentiating and setting to zero\n",
    "\n",
    "- $\\frac{\\partial}{\\partial \\mathbf{w}} J(\\mathbf{w}) = \\mathbf{0} \\rightarrow \\sum_{i=1}^{N} -\\mathbf{x}_i\\left(y-\\mathbf{w}^T\\mathbf{x}_i\\right)=0$\n",
    "- Collecting terms and rearranging:\n"
   ]
  },
  {
   "cell_type": "markdown",
   "metadata": {
    "slideshow": {
     "slide_type": "subslide"
    }
   },
   "source": [
    "### Putting it all together\n",
    "\n",
    "- Assume data is stored columnwise.\n",
    "    - $\\mathbf{X}$=\n",
    "    - $\\mathbf{y}$=\n",
    "- Then, we get:\n",
    "    - $(\\mathbf{X}^T\\mathbf{X})\\mathbf{w}=\\mathbf{X}^T \\mathbf{y}$\n",
    "    - $\\mathbf{w}=(\\mathbf{X}^T\\mathbf{X})^{-1}\\mathbf{X}^T \\mathbf{y}$"
   ]
  },
  {
   "cell_type": "markdown",
   "metadata": {
    "slideshow": {
     "slide_type": "subslide"
    }
   },
   "source": [
    "### Understanding the LS classifier\n",
    "\n",
    "- Basically, MSE in practice. Optimal in the case of normal data.\n",
    "- Connected to Bayes classifier under normal and equal variance assumption.\n",
    "- Goes way back:\n",
    "    - One of the earliest known uses is by Gauss for predicting motion of celestial bodies.\n",
    "    - Astronomor Piazzi discovered Ceres. He made some observation before Ceres was obscured by the sun.\n",
    "    - When would it return?\n",
    "    - Could rely on equations for planetary motion.\n",
    "    - Gauss used a least sum of error squared approach using the data collected by Piazzi.\n",
    "- Least sum of error squared approaches are used all the time."
   ]
  },
  {
   "cell_type": "markdown",
   "metadata": {
    "slideshow": {
     "slide_type": "subslide"
    }
   },
   "source": [
    "### Limitations of MSE and LS classifier\n",
    "\n",
    "- Batch learning\n",
    "- Solves equation in one step\n",
    "    - Correlation matrix and inverse of correlation matrix.\n",
    "- What could be potential problems?"
   ]
  },
  {
   "cell_type": "markdown",
   "metadata": {
    "slideshow": {
     "slide_type": "slide"
    }
   },
   "source": [
    "## Widow-Hoff algorithm (1960)\n",
    "\n",
    "- Idea: iterative gradient descent on MSE loss.\n",
    "- $\\hat{\\mathbf{w}}(k) = \\hat{\\mathbf{w}}(k-1)+\\rho_k \\frac{\\partial}{\\partial \\hat{\\mathbf{w}}(k-1)} J(\\hat{\\mathbf{w}}(k-1))$"
   ]
  },
  {
   "cell_type": "code",
   "execution_count": 15,
   "metadata": {
    "slideshow": {
     "slide_type": "subslide"
    }
   },
   "outputs": [],
   "source": [
    "w = np.linspace(-10, 10, 100)\n",
    "\n",
    "def J_1(w): return w**2 + 2*w + 1\n",
    "def J_2(w): return np.sin(w) + 0.1 * w**2\n",
    "\n",
    "J_values_1 = J_1(w)\n",
    "J_values_2 = J_2(w)\n"
   ]
  },
  {
   "cell_type": "code",
   "execution_count": 16,
   "metadata": {
    "slideshow": {
     "slide_type": "subslide"
    }
   },
   "outputs": [
    {
     "data": {
      "image/png": "[encoded data removed]",
      "text/plain": [
       "<Figure size 1000x400 with 2 Axes>"
      ]
     },
     "metadata": {},
     "output_type": "display_data"
    }
   ],
   "source": [
    "\n",
    "plt.figure(figsize=(10, 4))\n",
    "plt.subplot(121)\n",
    "plt.plot(w, J_values_1, label=\"J(w) = w^2 + 2w + 1\", color=\"blue\")\n",
    "plt.axhline(0, color='black', linewidth=0.5, linestyle='--')\n",
    "plt.axvline(0, color='black', linewidth=0.5, linestyle='--')\n",
    "plt.xlabel(\"w\")\n",
    "plt.ylabel(\"J(w)\")\n",
    "plt.subplot(122)\n",
    "plt.plot(w, J_values_2, label=\"J(w) = w^2 + 2w + 1\", color=\"blue\")\n",
    "plt.axhline(0, color='black', linewidth=0.5, linestyle='--')\n",
    "plt.axvline(0, color='black', linewidth=0.5, linestyle='--')\n",
    "plt.xlabel(\"w\")\n",
    "plt.show()"
   ]
  },
  {
   "cell_type": "markdown",
   "metadata": {
    "slideshow": {
     "slide_type": "subslide"
    }
   },
   "source": [
    "### Derivatie of MSE loss\n",
    "\n"
   ]
  },
  {
   "cell_type": "markdown",
   "metadata": {
    "slideshow": {
     "slide_type": "subslide"
    }
   },
   "source": [
    "### Example\n",
    "\n"
   ]
  },
  {
   "cell_type": "markdown",
   "metadata": {
    "slideshow": {
     "slide_type": "slide"
    }
   },
   "source": [
    "## The Perceptron\n",
    "\n",
    "- Proposed by Frank Rosenblatt in the 1950s\n",
    "- A model of neurons in the brain.\n",
    "- How to interpret the components in the linear classifiers we have seen so far?\n",
    "    - $\\mathbf{x}$: sensory input\n",
    "    - $w_1, \\cdots , w_d$: synapses with different strenghts\n",
    "    - f: a neuron fires or not.\n"
   ]
  },
  {
   "cell_type": "markdown",
   "metadata": {
    "slideshow": {
     "slide_type": "subslide"
    }
   },
   "source": [
    "## The online/iterative Perceptron algorithm\n",
    "\n",
    "- $\\hat{\\mathbf{w}}(k) = \\hat{\\mathbf{w}}(k-1)+\\rho_k f(\\mathbf{x}_k)\\mathbf{x}_k$\n",
    "- If $\\text{sign}(y_k) \\neq \\text{sign}(f(\\mathbf{x}_k)$\n",
    "    - missclassified.\n",
    "- Hence; do nothing if correctly classified and update if missclassified\n",
    "- When do we stop?\n",
    "- Can update in a batch-wise manner.\n"
   ]
  },
  {
   "cell_type": "markdown",
   "metadata": {
    "slideshow": {
     "slide_type": "subslide"
    }
   },
   "source": [
    "### Example\n",
    "\n",
    "-\n"
   ]
  },
  {
   "cell_type": "markdown",
   "metadata": {
    "slideshow": {
     "slide_type": "slide"
    }
   },
   "source": [
    "## Programming exercises\n",
    "\n",
    "Below are programming exercises assocaited with this lecture. These cell blocks are starting points that loads the data and prepares the problem such that you can get going with the implementation. There are also theoretical exercsies, but due to copyright we cannot shared them here. They will be made available in a private repository connected to the course.\n"
   ]
  },
  {
   "cell_type": "markdown",
   "metadata": {
    "slideshow": {
     "slide_type": "subslide"
    }
   },
   "source": [
    "### Problem 2.12 from the book\n",
    "\n",
    "Repeat problem 2.12 from the book, but using the MSE, SE2, and Perceptron classifier. How do they compare to the density-based classifiers from the previous sessions?\n",
    "\n",
    "The the Perceptron algorithm to convergence, the data needs to be linearly separable. The easiest way to accomplish this is to change the mean of one of the classes until the two clasess are completely separable.\n"
   ]
  },
  {
   "cell_type": "code",
   "execution_count": null,
   "metadata": {
    "slideshow": {
     "slide_type": "subslide"
    }
   },
   "outputs": [],
   "source": [
    "import numpy as np\n",
    "import matplotlib.pyplot as plt\n",
    "\n",
    "number_of_samples_in_each_class = 100\n",
    "\n",
    "mu1 = np.array([1, 1])\n",
    "mu2 = np.array([1.5, 1.5])\n",
    "sigma = np.array([[0.2, 0.0], [0.0, 0.2]])\n",
    "\n",
    "x_train_1 = np.random.multivariate_normal(mu1, sigma, number_of_samples_in_each_class)\n",
    "x_train_2 = np.random.multivariate_normal(mu2, sigma, number_of_samples_in_each_class)\n",
    "x_train = np.concatenate((x_train_1, x_train_2))\n",
    "y_train = np.concatenate((np.ones(number_of_samples_in_each_class), np.zeros(number_of_samples_in_each_class)))\n",
    "\n",
    "plt.figure(1, figsize=(8, 8))\n",
    "plt.scatter(x_train_1[:, 0], x_train_1[:, 1], s=120, facecolors='none',\n",
    "            edgecolors='black', linewidth=3.0, label='Class 1')\n",
    "plt.scatter(x_train_2[:, 0], x_train_2[:, 1], s=120, facecolors='none',\n",
    "            edgecolors='blue', linewidth=3.0, label='Class 2')\n",
    "plt.xlabel('x1')\n",
    "plt.ylabel('x2')\n",
    "plt.legend()\n",
    "plt.show()"
   ]
  }
 ],
 "metadata": {
  "celltoolbar": "Slideshow",
  "kernelspec": {
   "display_name": "pr-course",
   "language": "python",
   "name": "python3"
  },
  "language_info": {
   "codemirror_mode": {
    "name": "ipython",
    "version": 3
   },
   "file_extension": ".py",
   "mimetype": "text/x-python",
   "name": "python",
   "nbconvert_exporter": "python",
   "pygments_lexer": "ipython3",
   "version": "3.10.18"
  },
  "toc": {
   "base_numbering": 1,
   "nav_menu": {},
   "number_sections": true,
   "sideBar": true,
   "skip_h1_title": false,
   "title_cell": "Table of Contents",
   "title_sidebar": "Contents",
   "toc_cell": false,
   "toc_position": {
    "height": "calc(100% - 180px)",
    "left": "10px",
    "top": "150px",
    "width": "403px"
   },
   "toc_section_display": true,
   "toc_window_display": false
  },
  "varInspector": {
   "cols": {
    "lenName": 16,
    "lenType": 16,
    "lenVar": 40
   },
   "kernels_config": {
    "python": {
     "delete_cmd_postfix": "",
     "delete_cmd_prefix": "del ",
     "library": "var_list.py",
     "varRefreshCmd": "print(var_dic_list())"
    },
    "r": {
     "delete_cmd_postfix": ") ",
     "delete_cmd_prefix": "rm(",
     "library": "var_list.r",
     "varRefreshCmd": "cat(var_dic_list()) "
    }
   },
   "types_to_exclude": [
    "module",
    "function",
    "builtin_function_or_method",
    "instance",
    "_Feature"
   ],
   "window_display": false
  }
 },
 "nbformat": 4,
 "nbformat_minor": 4
}
