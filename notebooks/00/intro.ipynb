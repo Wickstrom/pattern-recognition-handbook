{
 "cells": [
  {
   "cell_type": "markdown",
   "metadata": {
    "slideshow": {
     "slide_type": "slide"
    }
   },
   "source": [
    "# Pattern Recognition\n",
    "\n",
    "Welcome."
   ]
  },
  {
   "cell_type": "markdown",
   "metadata": {
    "slideshow": {
     "slide_type": "slide"
    }
   },
   "source": [
    "## Overview of course\n",
    "\n",
    "The course into 5 main components\n",
    "\n",
    "1. Bayes decision theory.\n",
    "2. Linear classifiers.\n",
    "3. Non-linear classifiers.\n",
    "4. Data transformations.\n",
    "5. Clustering\n",
    "\n",
    "```{note}\n",
    "The notebooks are presented in class as slides using RISE (see [here](https://github.com/FilippoMB/python-time-series-handbook?tab=readme-ov-file#-notebook-format-and-slides) for more details). \n",
    "For this reason, the text in the notebooks is organized with bullet points.\n",
    "```\n"
   ]
  },
  {
   "cell_type": "markdown",
   "metadata": {
    "slideshow": {
     "slide_type": "subslide"
    }
   },
   "source": [
    "## University courses\n",
    "\n",
    "These notebooks are currently adopted in [FYS-3012 Pattern Recognition](https://uit.no/utdanning/emner/emne/873965/fys-3012) at UiT the Arctic University of Tromsø."
   ]
  },
  {
   "cell_type": "markdown",
   "metadata": {
    "slideshow": {
     "slide_type": "subslide"
    }
   },
   "source": [
    "## Roadmap\n",
    "\n",
    "```{warning}\n",
    "This is an early version of the course. There might be imprecisions and errors. Also, some chapters might undergo significant revisions and changes.\n",
    "```\n",
    "\n",
    "I am planning to add more content over time to cover additional topics in new chapters and to extend the existing ones with new examples and explanations. If there is a specific topic you feel is missing or passages that you feel are not clear enough, open an <a class=\"github-button\" href=\"https://github.com/Wickstrom/pattern-recognition-handbook/issues\" data-color-scheme=\"no-preference: light; light: light; dark: dark;\" data-icon=\"octicon-issue-opened\" aria-label=\"Issue FilippoMB/python-time-series-handbook on GitHub\">Issue</a> on the repository on Github.\n",
    "\n",
    "### A note on deep learning\n",
    "\n",
    "This course intentiaonally avoids advanced deep learning topics. This is mainly to not overlap with the dedicated deep learning course at UiT [FYS-3033 Deep Learning](https://en.uit.no/education/courses/course?p_document_id=859747). However, the foundation of deep learning (neural networks) is introduced from first principles. We go all the way from the Perceptron to mulitlayer perceptrons, coding everything from scratch. That means, those who follow this course will have a fundamental understanding of how neural networks work. Then, the dedicated deep learning course expands on this to cover the fundamental and most recent topics within the field of deep learning.\n"
   ]
  }
 ],
 "metadata": {
  "language_info": {
   "name": "python"
  }
 },
 "nbformat": 4,
 "nbformat_minor": 2
}
