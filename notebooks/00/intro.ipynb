{
 "cells": [
  {
   "cell_type": "markdown",
   "metadata": {
    "slideshow": {
     "slide_type": "slide"
    }
   },
   "source": [
    "# Pattern Recognition\n",
    "\n",
    "We live in an age of data abundance. Data of various types such as imagery, text, graphs, tabular, time series, and more are being collected on a daily basis across a wide range of societal settings. This data has hidden information that can be leveraged to improve problem solving, inform decision making, make scientific discoveries, and many other possibilities. But how do we find and extract information from data? Pattern recognition is the scientific discipline whose goal is the classification of objects into a number of cateogries and classes. Pattern recognition is an integral part of mist machine intelligence systems built for decision making, and provides essential tools for analyzing and understanding data.\n",
    "\n",
    "This course will give an in-depth introduction to the disipline of pattern recognition, and provide students with a wide range of essential tools that any machine learning practitioner should have in their tool belt.\n"
   ]
  },
  {
   "cell_type": "markdown",
   "metadata": {
    "slideshow": {
     "slide_type": "subslide"
    }
   },
   "source": [
    "## Overview of course\n",
    "\n",
    "The course into 5 main components\n",
    "\n",
    "1. Bayes decision theory.\n",
    "2. Linear classifiers.\n",
    "3. Non-linear classifiers.\n",
    "4. Data transformations.\n",
    "5. Clustering\n",
    "\n",
    "Content for each component are contained in notebooks. The notebooks are presented in class as slides using RISE (see [here](https://github.com/FilippoMB/python-time-series-handbook?tab=readme-ov-file#-notebook-format-and-slides) for more details). For this reason, the text in the notebooks is organized with bullet points."
   ]
  },
  {
   "cell_type": "markdown",
   "metadata": {
    "slideshow": {
     "slide_type": "subslide"
    }
   },
   "source": [
    "## What will you have at the end of this course?\n",
    "\n",
    "1. You will have a deep understanding of the fundamental techniques and algorithms that are frequently used in practice:\n",
    "    - \"The first thing you try\"-techniques like linear classifiers, k-means clustering, and principal component analysis will be covered in-depth and implemented from scratch.\n",
    "2. You will learn how to think more theoretically about how to approach a data analysis task.\n",
    "    - Detailed derivations of complex topics like kernel methods, neural networks, and Laplacian Eigenmaps.\n",
    "3. You will derive state-of-the-art algorithms from first principles.\n",
    "    - Derivation of widely used algorithms like Support Vector Machines and Normalized Cuts.\n",
    "4. You will have hands-on experience from working with diverse data and tasks."
   ]
  },
  {
   "cell_type": "markdown",
   "metadata": {
    "slideshow": {
     "slide_type": "subslide"
    }
   },
   "source": [
    "### Applications of pattern recognition - PCA in computer vision\n",
    "\n",
    "[Video from DINOv2 repository](https://github.com/facebookresearch/dinov2)\n",
    "\n",
    "<video width=\"320\" height=\"240\" controls>\n",
    "  <source src=\"media/dino.mp4\" type=\"video/mp4\">\n",
    "</video>\n"
   ]
  },
  {
   "cell_type": "markdown",
   "metadata": {
    "slideshow": {
     "slide_type": "subslide"
    }
   },
   "source": [
    "### Applications of pattern recognition - Temperature scaled softmax in GPT\n",
    "\n",
    "[Image from 3Blue1Brown.](https://www.3blue1brown.com/lessons/gpt)\n",
    "\n",
    "<p float=\"left\">\n",
    "    <img src=\"media/gptsoftmax.png\" width=\"400\" />\n",
    "</p>\n"
   ]
  },
  {
   "cell_type": "markdown",
   "metadata": {},
   "source": [
    "### Applications of pattern recognition - Bayes decision theory in image generation models\n",
    "\n",
    "[Image from GroundingDino](https://github.com/IDEA-Research/GroundingDINO/tree/main) and from [Lil'log](https://lilianweng.github.io/posts/2021-07-11-diffusion-models/) \n",
    "\n",
    "<p float=\"left\">\n",
    "    <img src=\"media/grounding_dino.png\" width=\"400\" />\n",
    "</p>\n",
    "\n",
    "<p float=\"left\">\n",
    "    <img src=\"media/diffusion1.png\" width=\"400\" />\n",
    "</p>\n",
    "\n",
    "<p float=\"left\">\n",
    "    <img src=\"media/diffusion2.png\" width=\"400\" />\n",
    "</p>\n"
   ]
  },
  {
   "cell_type": "markdown",
   "metadata": {
    "slideshow": {
     "slide_type": "subslide"
    }
   },
   "source": [
    "### University courses\n",
    "\n",
    "These notebooks are currently adopted in [FYS-3012 Pattern Recognition](https://uit.no/utdanning/emner/emne/873965/fys-3012) at UiT the Arctic University of Tromsø."
   ]
  },
  {
   "cell_type": "markdown",
   "metadata": {
    "slideshow": {
     "slide_type": "subslide"
    }
   },
   "source": [
    "## Roadmap\n",
    "\n",
    "```{warning}\n",
    "This is an early version of the course. There might be imprecisions and errors. Also, some chapters might undergo significant revisions and changes.\n",
    "```\n",
    "\n",
    "I am planning to add more content over time to cover additional topics in new chapters and to extend the existing ones with new examples and explanations. If there is a specific topic you feel is missing or passages that you feel are not clear enough, open an <a class=\"github-button\" href=\"https://github.com/Wickstrom/pattern-recognition-handbook/issues\" data-color-scheme=\"no-preference: light; light: light; dark: dark;\" data-icon=\"octicon-issue-opened\" aria-label=\"Issue FilippoMB/python-time-series-handbook on GitHub\">Issue</a> on the repository on Github.\n",
    "\n",
    "### A note on deep learning\n",
    "\n",
    "This course intentiaonally avoids advanced deep learning topics. This is mainly to not overlap with the dedicated deep learning course at UiT [FYS-3033 Deep Learning](https://en.uit.no/education/courses/course?p_document_id=859747). However, the foundation of deep learning (neural networks) is introduced from first principles. We go all the way from the Perceptron to mulitlayer perceptrons, coding everything from scratch. That means, those who follow this course will have a fundamental understanding of how neural networks work. Then, the dedicated deep learning course expands on this to cover the fundamental and most recent topics within the field of deep learning.\n"
   ]
  },
  {
   "cell_type": "markdown",
   "metadata": {
    "slideshow": {
     "slide_type": "slide"
    }
   },
   "source": [
    "## Practical information for 2025 version of UiT course"
   ]
  },
  {
   "cell_type": "markdown",
   "metadata": {
    "slideshow": {
     "slide_type": "subslide"
    }
   },
   "source": [
    "### Teaching staff\n",
    "\n",
    "1. Associate professor Kristoffer Wickstrøm - course responsible\n",
    "2. Phd candidate Catherine Cecilia. A Taelman - teaching assistant\n",
    "3. Phd candidate Madeleine Cecilia Östersund - teaching assistant"
   ]
  },
  {
   "cell_type": "markdown",
   "metadata": {
    "slideshow": {
     "slide_type": "subslide"
    }
   },
   "source": [
    "### Lecture and exercises\n",
    "\n",
    "1. Lectures:\n",
    "    - Mondays from 10:15 - 12:00\n",
    "    - Thursdays from 10:15 - 12:00\n",
    "2. Exercises:\n",
    "    - Wednesdays from 14:15 - 16:00\n",
    "    - Fridays from 08:15 - 10:00\n",
    "3. First lecture 14th of August.\n",
    "4. First exercise 27th of August."
   ]
  },
  {
   "cell_type": "markdown",
   "metadata": {
    "slideshow": {
     "slide_type": "subslide"
    }
   },
   "source": [
    "### Exam\n",
    "\n",
    "1. Home exam couting 50% of grade:\n",
    "    - Week 42 and 43, start 13th of October and end 3rd of November.\n",
    "2. Digital exam in Wiseflow (multiple choice and short text answers) counting 50% of grade. Date not decided yet."
   ]
  }
 ],
 "metadata": {
  "language_info": {
   "name": "python"
  }
 },
 "nbformat": 4,
 "nbformat_minor": 2
}
