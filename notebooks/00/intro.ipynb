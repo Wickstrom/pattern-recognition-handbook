{
 "cells": [
  {
   "cell_type": "markdown",
   "metadata": {},
   "source": [
    "# Time series analysis with Python\n",
    "\n",
    "Welcome to a journey through the world of time series analysis using Python! This collection of Jupyter notebooks serves as both a comprehensive course and a practical guide for students, data scientists, and researchers interested in exploring the interplay between statistical theories and practical applications in time series analysis.\n",
    "\n",
    "Time series analysis is a crucial discipline in data science, offering insights into patterns over time that are invaluable for forecasting, anomaly detection, and understanding temporal dynamics. The aim of this course is to introduce fundamental concepts of time series analysis from multiple perspectives: statistical, dynamical systems, machine learning, and signal processing. This interdisciplinary approach aims to give the reader a broad view on the world of time series.\n",
    "\n",
    "The course is designed to combine high-level theoretical knowledge with practical programming skills. Each chapter introduces key concepts of time series analysis, followed by hands-on coding sections. This structure allows you to immediately apply the theoretical concepts you learn, seeing first-hand how these translate into functional tools in data analytics. Through this process, you will gain both the knowledge to understand complex time series data and the skills to analyze and predict it effectively.\n",
    "To reinforce learning and encourage active engagement, each chapter concludes with exercises. These are designed to test your understanding and help you apply the lessons in practical contexts.\n",
    "\n",
    "Whether you are new to time series analysis or looking to refine your expertise, this course offers a broad exploration of the field, with Python as your toolkit. I hope that you will find this material both educational and entertaining, brining you a step closer to mastering time series analysis."
   ]
  },
  {
   "cell_type": "markdown",
   "metadata": {},
   "source": [
    "## Chapters\n",
    "\n",
    "The course is organized into the following chapters:\n",
    "\n",
    "1. First item\n",
    "2. Second item\n",
    "3. Third item\n",
    "4. Fourth item\n",
    "\n",
    "```{note}\n",
    "The notebooks are presented in class as slides using RISE (see [here](https://github.com/FilippoMB/python-time-series-handbook?tab=readme-ov-file#-notebook-format-and-slides) for more details). \n",
    "For this reason, the text in the notebooks is organized with bullet points.\n",
    "```\n"
   ]
  },
  {
   "cell_type": "markdown",
   "metadata": {},
   "source": [
    "## University courses\n",
    "\n",
    "These notebooks are currently adopted in [FYS-3012 Pattern Recognition](https://uit.no/utdanning/emner/emne/873965/fys-3012) at UiT the Arctic University of Tromsø."
   ]
  },
  {
   "cell_type": "markdown",
   "metadata": {},
   "source": [
    "## Roadmap\n",
    "\n",
    "```{warning}\n",
    "This is an early version of the course. There might be imprecisions and errors. Also, some chapters might undergo significant revisions and changes.\n",
    "```\n",
    "\n",
    "I am planning to add more content over time to cover additional topics in new chapters and to extend the existing ones with new examples and explanations. If there is a specific topic you feel is missing or passages that you feel are not clear enough, open an <a class=\"github-button\" href=\"https://github.com/Wickstrom/pattern-recognition-handbook/issues\" data-color-scheme=\"no-preference: light; light: light; dark: dark;\" data-icon=\"octicon-issue-opened\" aria-label=\"Issue FilippoMB/python-time-series-handbook on GitHub\">Issue</a> on the repository on Github.\n",
    "\n",
    "### A note on deep learning\n",
    "\n",
    "This course intentiaonally avoids advanced deep learning topics. This is mainly to not overlap with the dedicated deep learning course at UiT [FYS-3033 Deep Learning](https://en.uit.no/education/courses/course?p_document_id=859747). However, the foundation of deep learning (neural networks) are introduced from first principles. We go all the way from the Perceptron to mulitlayer perceptrons, coding everything from scratch. That means, those who follow this course will have a fundamental understanding of how neural networks work. Then, the dedicated deep learning course expands on this to cover the fundamental and most recent topics within the field of deep learning.\n"
   ]
  }
 ],
 "metadata": {
  "language_info": {
   "name": "python"
  }
 },
 "nbformat": 4,
 "nbformat_minor": 2
}
