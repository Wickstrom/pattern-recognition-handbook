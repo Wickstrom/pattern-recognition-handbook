{
 "cells": [
  {
   "cell_type": "markdown",
   "metadata": {},
   "source": [
    "# Bayes decision theory\n"
   ]
  },
  {
   "cell_type": "markdown",
   "metadata": {
    "slideshow": {
     "slide_type": "slide"
    },
    "tags": []
   },
   "source": [
    "## Introduction\n",
    "\n",
    "In this lecture we will cover the following topics:\n",
    "\n",
    "- Bayesian decision theory\n",
    "- The naïve Bayes assumption\n",
    "- Bayes classifier minimizes probablity of error\n",
    "- Risk minimization\n",
    "- Discriminant functions\n",
    "- Decision surfaces"
   ]
  },
  {
   "cell_type": "code",
   "execution_count": 12,
   "metadata": {
    "slideshow": {
     "slide_type": "skip"
    },
    "tags": [
     "hide-input"
    ]
   },
   "outputs": [],
   "source": [
    "#Imports\n",
    "\n",
    "import numpy as np\n",
    "import matplotlib.pyplot as plt\n",
    "\n",
    "from ucimlrepo import fetch_ucirepo \n"
   ]
  },
  {
   "cell_type": "markdown",
   "metadata": {},
   "source": [
    "---"
   ]
  },
  {
   "cell_type": "markdown",
   "metadata": {
    "slideshow": {
     "slide_type": "slide"
    }
   },
   "source": [
    "## A motivating example: Ending Spam\n"
   ]
  },
  {
   "cell_type": "markdown",
   "metadata": {
    "slideshow": {
     "slide_type": "subslide"
    }
   },
   "source": [
    "### Spam\n",
    "\n",
    "- It's the early 2000, and spam emails offering you to buy Viagra is flourishing.\n",
    "- Cannot just filter on keywords.\n",
    "- Mathmatically, we want to find $P(\\text{spam}|\\text{content})$.\n",
    "\n",
    "<p float=\"left\">\n",
    "    <img src=\"media/endingspam.png\" width=\"100\" />\n",
    "    <img src=\"media/endingspam.png\" width=\"100\" />\n",
    "</p>\n"
   ]
  },
  {
   "cell_type": "markdown",
   "metadata": {
    "slideshow": {
     "slide_type": "subslide"
    }
   },
   "source": [
    "### Tokenization and learning\n",
    "\n",
    "- Break email into words $W_i$\n",
    "- Discrete events: $P(W_i)\\geq 0$\n",
    "- Notation\n",
    "    - S: Spam (Illegitimate messages)\n",
    "    - H: Ham (Legitimate messages)\n",
    "- How to get an expression for $P(\\text{spam}|\\text{content})$?\n",
    "- Bayes' rule:\n",
    "    - $P(S|W_i)=\\frac{P(W_i|S)P(S)}{P(W_i)}$\n",
    "- where:\n",
    "    - $P(W_i)=P(W_i|S)P(S)+P(W_i|H)P(H)$"
   ]
  },
  {
   "cell_type": "markdown",
   "metadata": {
    "slideshow": {
     "slide_type": "subslide"
    }
   },
   "source": [
    "### How to learn from data\n",
    "\n",
    "- Collect Spam and Ham and learn (estimate) $P(W_i|S)$ and $P(W_i|H)$!\n",
    "- Example\n",
    "    - W_i = \"Viagra\"\n",
    "- Let us look at the data."
   ]
  },
  {
   "cell_type": "code",
   "execution_count": 21,
   "metadata": {
    "slideshow": {
     "slide_type": "subslide"
    }
   },
   "outputs": [
    {
     "name": "stdout",
     "output_type": "stream",
     "text": [
      "23\n"
     ]
    },
    {
     "data": {
      "image/png": "[encoded data removed]",
      "text/plain": [
       "<Figure size 640x480 with 1 Axes>"
      ]
     },
     "metadata": {},
     "output_type": "display_data"
    }
   ],
   "source": [
    "# Load and visualize data\n",
    "\n",
    "# fetch dataset \n",
    "spambase = fetch_ucirepo(id=94) \n",
    "  \n",
    "# data (as pandas dataframes) \n",
    "X = spambase.data.features\n",
    "y = spambase.data.targets\n",
    "\n",
    "#print(spambase.variables['name'])\n",
    "index_for_frequency_of_word_money = 23\n",
    "index_for_frequency_of_word_george = 23\n",
    "\n",
    "ham_indices = np.where(y == 0)[0]\n",
    "spam_indices = np.where(y == 1)[0]\n",
    "\n",
    "plt.figure(1)\n",
    "plt.subplot(121)\n",
    "plt.bar(0, X.iloc[ham_indices, index_for_frequency_of_word_money].mean(), label='ham')\n",
    "plt.bar(1, X.iloc[spam_indices, index_for_frequency_of_word_money].mean(), label='spam')\n",
    "plt.xticks([0, 1], [0, 1])\n",
    "plt.ylabel('Average frequency of the word \"money\"')\n",
    "plt.xlabel('Spam (1) or Ham (0)')\n",
    "plt.legend()\n",
    "plt.subplot(122)\n",
    "plt.subplot(121)\n",
    "plt.bar(0, X.iloc[ham_indices, index_for_frequency_of_word_money].mean(), label='ham')\n",
    "plt.bar(1, X.iloc[spam_indices, index_for_frequency_of_word_money].mean(), label='spam')\n",
    "plt.xticks([0, 1], [0, 1])\n",
    "plt.ylabel('Average frequency of the word \"money\"')\n",
    "plt.xlabel('Spam (1) or Ham (0)')\n",
    "plt.legend()\n",
    "plt.show()\n"
   ]
  },
  {
   "cell_type": "markdown",
   "metadata": {
    "slideshow": {
     "slide_type": "subslide"
    }
   },
   "source": [
    "### Detection\n",
    "\n",
    "- Need $P(W_1 \\cap W_2 \\cap \\cdots \\cap W_K)$\n",
    "- Difficult!\n",
    "    - Think about what this term is actually saying.\n",
    "- Need to simplify"
   ]
  },
  {
   "cell_type": "markdown",
   "metadata": {
    "slideshow": {
     "slide_type": "subslide"
    }
   },
   "source": [
    "### Naïve Bayes assumption\n",
    "\n",
    "- Assume independence!\n",
    "- $P(A \\cap B)=P(A)P(B)$\n",
    "- Then, we can compute $P(S|W_1 \\cap W_2 \\cap \\cdots \\cap W_K)$:"
   ]
  },
  {
   "cell_type": "markdown",
   "metadata": {
    "slideshow": {
     "slide_type": "slide"
    }
   },
   "source": [
    "## Bayes' classifier\n",
    "\n",
    "- Shifting focus a bit.\n",
    "- How can we think more generally about clasification using Bayes' rule?\n",
    "- First:\n",
    "    Think continious random variables ->\n",
    "- Let us start with considering two classes $w_1$ and $w_2$\n"
   ]
  },
  {
   "cell_type": "markdown",
   "metadata": {
    "slideshow": {
     "slide_type": "subslide"
    }
   },
   "source": [
    "### Core idea of Bayes' classifier\n",
    "\n",
    "- Given a new sample $\\mathbf{x}$, how can we decide if we want to classify it as belonging to class $w_1$?\n",
    "- What about:\n",
    "    - $P(w_1|\\mathbf{x})>P(w_2|\\mathbf{x})$\n",
    "- else class $w_2$."
   ]
  },
  {
   "cell_type": "markdown",
   "metadata": {
    "slideshow": {
     "slide_type": "subslide"
    }
   },
   "source": [
    "### Leveraging Bayes' rule\n",
    "\n",
    "- $P(w_1|\\mathbf{x})$ -> not straigh-forward to model.\n",
    "- Bayes' rule to the rescue:\n",
    "    - $P(w_1)P(\\mathbf{x}|w_1) > P(w_2)P(\\mathbf{x}|w_2)$\n",
    "- Much easier to work with ->"
   ]
  },
  {
   "cell_type": "markdown",
   "metadata": {
    "slideshow": {
     "slide_type": "subslide"
    }
   },
   "source": [
    "### Example with balanced dataset\n",
    "\n",
    "- Consider the case where $P(w_1)=P(w_2)=0.5$.\n",
    "- Draw ->"
   ]
  },
  {
   "cell_type": "markdown",
   "metadata": {
    "slideshow": {
     "slide_type": "subslide"
    }
   },
   "source": [
    "### Example with unbalanced dataset\n",
    "\n",
    "- Consider the case where $P(w_1)=0.25$ and $P(w_2)=0.75$.\n",
    "- Draw ->"
   ]
  },
  {
   "cell_type": "markdown",
   "metadata": {
    "slideshow": {
     "slide_type": "subslide"
    }
   },
   "source": [
    "### Probablity of error\n",
    "\n",
    "- Want:\n",
    "    - Algorithm that can solve task with high performance.\n",
    "    - Think spam filter that removes all spam and keeps all ham.\n",
    "- Problem:\n",
    "    - Real data is complicated, we will make mistakes!\n",
    "    - What is the probablity of making an error with a Bayes' classifier?\n",
    "- The probablity of error can be modelled as follows:\n",
    "    - $P_e = P(\\mathbf{x}\\in R_1, w_2)+P(\\mathbf{x}\\in R_2, w_1)$\n",
    "    - $    = P(\\mathbf{x}\\in R_1(w_2))P(w_2) + P(\\mathbf{x}\\in R_2(w1))P(w_1)$"
   ]
  },
  {
   "cell_type": "markdown",
   "metadata": {
    "slideshow": {
     "slide_type": "subslide"
    }
   },
   "source": [
    "### Bayes' classifier minimize $P_e$\n",
    "\n",
    "- Note that $P_e$ can also be expressed in terms of an integral\n",
    "    - $P_e = \\int_{R_1}P(w_2)P(\\mathbf{x}|w_2)+\\int_{R_2}P(w_1)P(\\mathbf{x}|w_1)$\n",
    "    - Visual proof ->\n",
    "    - Formal proof as extra exercise.\n"
   ]
  },
  {
   "cell_type": "markdown",
   "metadata": {
    "slideshow": {
     "slide_type": "subslide"
    }
   },
   "source": [
    "### Going beyond the two-class setting\n",
    "\n",
    "- Given a new sample $\\mathbf{x}$, how can we decide if we want to classify it as belonging to class $w_i$?\n",
    "- $P(w_i)P(\\mathbf{x}|w_i) > P(w_j)P(\\mathbf{x}|w_j)$ for all $j \\neq i$.\n",
    "- Assign $\\mathbf{x}$ to the largest $P(w_i)P(\\mathbf{x}|w_i)$\n"
   ]
  },
  {
   "cell_type": "markdown",
   "metadata": {
    "slideshow": {
     "slide_type": "slide"
    }
   },
   "source": [
    "## Dealing with risk in Bayes' classifier\n",
    "\n",
    "- In many cases, certain types of erros have bigger consequences than others.\n",
    "- Example 1:\n",
    "    - A spam email getting through the spam filter?\n",
    "        - Annoying, but managable.\n",
    "    - A legitimate email with an important message getting caught in filter?\n",
    "        - Potentially very damadging\n",
    "Example 2:\n",
    "    - A benign tumor being classified as malignant in breast cancer screening?\n",
    "        - Not good; increases workload and chance of unecessary treatment. But, \"better safe than sorry\".\n",
    "    - A malignant tumor being missed?\n",
    "        - Potentially fatal.\n",
    "- Can we incorporate this into the classifier?\n"
   ]
  },
  {
   "cell_type": "markdown",
   "metadata": {
    "slideshow": {
     "slide_type": "subslide"
    }
   },
   "source": [
    "### Introducing risk factors to the Bayes' classifier\n",
    "\n",
    "- Define:\n",
    "    - $\\lambda_{12}$: penalty for wrongly classifying $w_2$ as $w_1$\n",
    "    - $\\lambda_{21}$: penalty for wrongly classifying $w_1$ as $w_2$\n",
    "- Consider two-class setting again:\n",
    "    - $P\\lambda_{12}(w_1)P(\\mathbf{x}|w_1) > \\lambda_{21}P(w_2)P(\\mathbf{x}|w_2)$\n",
    "    - Rewrite as ratio:\n",
    "    - Need to know class-conditional distributions."
   ]
  },
  {
   "cell_type": "markdown",
   "metadata": {
    "slideshow": {
     "slide_type": "subslide"
    }
   },
   "source": [
    "## Investigating the simples case - one dimensional normal distributions\n",
    "\n",
    "- Let $P(\\mathbf{x}|w_i)$ follow a normal probability density function.\n",
    "- One dimensional case:\n",
    "- General case:"
   ]
  },
  {
   "cell_type": "markdown",
   "metadata": {
    "slideshow": {
     "slide_type": "subslide"
    }
   },
   "source": [
    "## Example with two-class problem\n",
    "\n",
    "- Consider a balanced dataset with class conditional distributions $P(\\mathbf{x}|w_1)\\sim N(\\mu_1, \\sigma) $ and $P(\\mathbf{x}|w_2)\\sim N(\\mu_2, \\sigma)$.\n",
    "- Let $P(w_1)=P(w_2)$ -> balanced datasets (equiprobable classes).\n",
    "- Expression for ratio:"
   ]
  },
  {
   "cell_type": "markdown",
   "metadata": {
    "slideshow": {
     "slide_type": "subslide"
    }
   },
   "source": [
    "## Discriminant functions\n",
    "\n",
    "- Take a step back:\n",
    "    - What is actually going on?\n",
    "- Input space is partitioned into regions. Two regions are separated by a decision surface.\n",
    "- Discriminant function."
   ]
  },
  {
   "cell_type": "markdown",
   "metadata": {
    "slideshow": {
     "slide_type": "subslide"
    }
   },
   "source": [
    "## Example for Gaussian case\n",
    "\n",
    "- Take a step back:\n",
    "    - What is actually going on?\n",
    "- Input space is partitioned into regions. Two regions are separated by a decision surface.\n",
    "- Discriminant function."
   ]
  }
 ],
 "metadata": {
  "celltoolbar": "Slideshow",
  "kernelspec": {
   "display_name": "pr-course",
   "language": "python",
   "name": "python3"
  },
  "language_info": {
   "codemirror_mode": {
    "name": "ipython",
    "version": 3
   },
   "file_extension": ".py",
   "mimetype": "text/x-python",
   "name": "python",
   "nbconvert_exporter": "python",
   "pygments_lexer": "ipython3",
   "version": "3.10.18"
  },
  "toc": {
   "base_numbering": 1,
   "nav_menu": {},
   "number_sections": true,
   "sideBar": true,
   "skip_h1_title": false,
   "title_cell": "Table of Contents",
   "title_sidebar": "Contents",
   "toc_cell": false,
   "toc_position": {},
   "toc_section_display": true,
   "toc_window_display": false
  },
  "varInspector": {
   "cols": {
    "lenName": 16,
    "lenType": 16,
    "lenVar": 40
   },
   "kernels_config": {
    "python": {
     "delete_cmd_postfix": "",
     "delete_cmd_prefix": "del ",
     "library": "var_list.py",
     "varRefreshCmd": "print(var_dic_list())"
    },
    "r": {
     "delete_cmd_postfix": ") ",
     "delete_cmd_prefix": "rm(",
     "library": "var_list.r",
     "varRefreshCmd": "cat(var_dic_list()) "
    }
   },
   "types_to_exclude": [
    "module",
    "function",
    "builtin_function_or_method",
    "instance",
    "_Feature"
   ],
   "window_display": false
  }
 },
 "nbformat": 4,
 "nbformat_minor": 4
}
